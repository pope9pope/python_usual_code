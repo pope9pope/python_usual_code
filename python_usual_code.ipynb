{
 "cells": [
  {
   "cell_type": "markdown",
   "metadata": {},
   "source": [
    "# python常用代码"
   ]
  },
  {
   "cell_type": "markdown",
   "metadata": {},
   "source": [
    "## 字典键值对转换"
   ]
  },
  {
   "cell_type": "code",
   "execution_count": 1,
   "metadata": {},
   "outputs": [],
   "source": [
    "# 无重复值的字典：\n",
    "my_dict = {\n",
    "  'key1': 'value1', \n",
    "  'key2': 'value2', \n",
    "  'key3': 'value3', \n",
    "}"
   ]
  },
  {
   "cell_type": "code",
   "execution_count": 2,
   "metadata": {},
   "outputs": [],
   "source": [
    "# 转换键值对\n",
    "my_inverted_dict = dict(map(reversed, my_dict.items()))"
   ]
  },
  {
   "cell_type": "code",
   "execution_count": 3,
   "metadata": {},
   "outputs": [
    {
     "data": {
      "text/plain": [
       "{'value1': 'key1', 'value2': 'key2', 'value3': 'key3'}"
      ]
     },
     "execution_count": 3,
     "metadata": {},
     "output_type": "execute_result"
    }
   ],
   "source": [
    "my_inverted_dict"
   ]
  },
  {
   "cell_type": "code",
   "execution_count": 4,
   "metadata": {},
   "outputs": [],
   "source": [
    "# 有重复值的字典\n",
    "my_dict = {\n",
    "  'key1': 'value1', \n",
    "  'key2': 'value2', \n",
    "  'key3': 'value3', \n",
    "  'key4': 'value3'\n",
    "}"
   ]
  },
  {
   "cell_type": "code",
   "execution_count": 5,
   "metadata": {},
   "outputs": [],
   "source": [
    "# 键值对转换\n",
    "my_inverted_dict = dict()\n",
    "for key, value in my_dict.items():\n",
    "    my_inverted_dict.setdefault(value, list()).append(key)"
   ]
  },
  {
   "cell_type": "code",
   "execution_count": 6,
   "metadata": {},
   "outputs": [
    {
     "data": {
      "text/plain": [
       "{'value1': ['key1'], 'value2': ['key2'], 'value3': ['key3', 'key4']}"
      ]
     },
     "execution_count": 6,
     "metadata": {},
     "output_type": "execute_result"
    }
   ],
   "source": [
    "my_inverted_dict"
   ]
  },
  {
   "cell_type": "markdown",
   "metadata": {},
   "source": [
    "## 两个列表的求和元素"
   ]
  },
  {
   "cell_type": "code",
   "execution_count": 7,
   "metadata": {},
   "outputs": [],
   "source": [
    "ethernet_devices = [1, [233], [1807], [114514], [189810]]\n",
    "usb_devices = [1, [3], [4], [4], [0]]"
   ]
  },
  {
   "cell_type": "code",
   "execution_count": 8,
   "metadata": {},
   "outputs": [
    {
     "data": {
      "text/plain": [
       "[2, [233, 3], [1807, 4], [114514, 4], [189810, 0]]"
      ]
     },
     "execution_count": 8,
     "metadata": {},
     "output_type": "execute_result"
    }
   ],
   "source": [
    "# 使用map方法\n",
    "import operator \n",
    "all_devices = list(map(operator.add, ethernet_devices, usb_devices))\n",
    "all_devices"
   ]
  },
  {
   "cell_type": "code",
   "execution_count": 10,
   "metadata": {},
   "outputs": [
    {
     "data": {
      "text/plain": [
       "array([2, list([233, 3]), list([1807, 4]), list([114514, 4]),\n",
       "       list([189810, 0])], dtype=object)"
      ]
     },
     "execution_count": 10,
     "metadata": {},
     "output_type": "execute_result"
    }
   ],
   "source": [
    "# numpy 方法\n",
    "import numpy as np \n",
    "all_devices = np.add(ethernet_devices, usb_devices)\n",
    "all_devices"
   ]
  },
  {
   "cell_type": "markdown",
   "metadata": {},
   "source": [
    "## 检测文件是否存在"
   ]
  },
  {
   "cell_type": "code",
   "execution_count": 11,
   "metadata": {},
   "outputs": [
    {
     "name": "stdout",
     "output_type": "stream",
     "text": [
      "file not found\n"
     ]
    }
   ],
   "source": [
    "# 暴力破解\n",
    "try: \n",
    "    with open('/path/to/file', 'r') as fh:\n",
    "        pass\n",
    "except FileNotFoundError: \n",
    "    print('file not found')"
   ]
  },
  {
   "cell_type": "code",
   "execution_count": 12,
   "metadata": {},
   "outputs": [
    {
     "data": {
      "text/plain": [
       "False"
      ]
     },
     "execution_count": 12,
     "metadata": {},
     "output_type": "execute_result"
    }
   ],
   "source": [
    "# 使用os，进阶的做法\n",
    "import os \n",
    "exists = os.path.isfile('/path/to/file')\n",
    "exists"
   ]
  },
  {
   "cell_type": "code",
   "execution_count": 14,
   "metadata": {},
   "outputs": [
    {
     "name": "stdout",
     "output_type": "stream",
     "text": [
      "file not found\n"
     ]
    }
   ],
   "source": [
    "# 如果文件系统较多，或者繁杂的时候，则可以使用Path来提升性能\n",
    "from pathlib import Path\n",
    "config = Path('/path/to/file') \n",
    "if config.is_file(): \n",
    "    print('file is found')\n",
    "else:\n",
    "    print('file not found')"
   ]
  },
  {
   "cell_type": "markdown",
   "metadata": {},
   "source": [
    "## 将两个列表转换成字典"
   ]
  },
  {
   "cell_type": "code",
   "execution_count": 15,
   "metadata": {},
   "outputs": [],
   "source": [
    "column_names = ['id', 'color', 'style']\n",
    "column_values = [1, 'red', 'bold']"
   ]
  },
  {
   "cell_type": "code",
   "execution_count": 16,
   "metadata": {},
   "outputs": [],
   "source": [
    "# 使用zip进行组合\n",
    "n_dict = dict(zip(column_names,column_values))"
   ]
  },
  {
   "cell_type": "code",
   "execution_count": 17,
   "metadata": {},
   "outputs": [
    {
     "data": {
      "text/plain": [
       "{'id': 1, 'color': 'red', 'style': 'bold'}"
      ]
     },
     "execution_count": 17,
     "metadata": {},
     "output_type": "execute_result"
    }
   ],
   "source": [
    "n_dict"
   ]
  },
  {
   "cell_type": "markdown",
   "metadata": {},
   "source": [
    "## 检测列表是否为空"
   ]
  },
  {
   "cell_type": "code",
   "execution_count": 21,
   "metadata": {},
   "outputs": [
    {
     "name": "stdout",
     "output_type": "stream",
     "text": [
      "empty\n"
     ]
    }
   ],
   "source": [
    "# 通过类型灵活性检查列表是否为空**首选方法**\n",
    "my_list = list()\n",
    "\n",
    "if not my_list:\n",
    "    print('empty')"
   ]
  },
  {
   "cell_type": "code",
   "execution_count": 22,
   "metadata": {},
   "outputs": [
    {
     "name": "stdout",
     "output_type": "stream",
     "text": [
      "empty\n"
     ]
    }
   ],
   "source": [
    "# 或者判断列表的长度\n",
    "if len(my_list) == 0:\n",
    "    print('empty')  "
   ]
  },
  {
   "cell_type": "markdown",
   "metadata": {},
   "source": [
    "## 数据复制"
   ]
  },
  {
   "cell_type": "code",
   "execution_count": 23,
   "metadata": {},
   "outputs": [
    {
     "data": {
      "text/plain": [
       "[1, 2, 3, 4, 5, 6, 7, 8, 9]"
      ]
     },
     "execution_count": 23,
     "metadata": {},
     "output_type": "execute_result"
    }
   ],
   "source": [
    "# 在python3中，我们使用自带的 .copy() 函数，对数据进行复制\n",
    "my_list = [1, 2, 3, 4, 5, 6, 7, 8, 9]\n",
    "dup_list = my_list.copy()\n",
    "dup_list"
   ]
  },
  {
   "cell_type": "code",
   "execution_count": 24,
   "metadata": {},
   "outputs": [
    {
     "data": {
      "text/plain": [
       "[1, 2, 3, 4, 5, 6, 7, 8, 9]"
      ]
     },
     "execution_count": 24,
     "metadata": {},
     "output_type": "execute_result"
    }
   ],
   "source": [
    "# 切片的操作\n",
    "dup_list = my_list[:]\n",
    "dup_list"
   ]
  },
  {
   "cell_type": "markdown",
   "metadata": {},
   "source": [
    "## 检查最后一项"
   ]
  },
  {
   "cell_type": "code",
   "execution_count": 25,
   "metadata": {},
   "outputs": [
    {
     "data": {
      "text/plain": [
       "9"
      ]
     },
     "execution_count": 25,
     "metadata": {},
     "output_type": "execute_result"
    }
   ],
   "source": [
    "# 使用负索引，快速找到最后一项\n",
    "my_list = [1, 3, 5, 7, 9]\n",
    "Last_item = my_list[-1]\n",
    "Last_item"
   ]
  },
  {
   "cell_type": "code",
   "execution_count": 26,
   "metadata": {},
   "outputs": [
    {
     "data": {
      "text/plain": [
       "9"
      ]
     },
     "execution_count": 26,
     "metadata": {},
     "output_type": "execute_result"
    }
   ],
   "source": [
    "# 删除最后一项，用pop()方法\n",
    "my_list.pop()"
   ]
  },
  {
   "cell_type": "code",
   "execution_count": 27,
   "metadata": {},
   "outputs": [
    {
     "data": {
      "text/plain": [
       "[1, 3, 5, 7]"
      ]
     },
     "execution_count": 27,
     "metadata": {},
     "output_type": "execute_result"
    }
   ],
   "source": [
    "my_list"
   ]
  },
  {
   "cell_type": "markdown",
   "metadata": {},
   "source": [
    "## python快捷方式制作"
   ]
  },
  {
   "cell_type": "code",
   "execution_count": 29,
   "metadata": {},
   "outputs": [],
   "source": [
    "# 有时在创建脚本时，希望能够通过单击按钮方便地运行它。幸运的是，有几种方法可以做到这一点。\n",
    "\n",
    "# 首先，我们可以使用以下设置创建Windows快捷方式：\n",
    "\n",
    "\\path\\to\\trc-image-titler.py -o \\path\\to\\output\n",
    "# 同样，我们也可以使用以下代码创建批处理文件：\n",
    "\n",
    "@echo off\n",
    "\\path\\to\\trc-image-titler.py -o \\path\\to\\output\n",
    "\n",
    "# 最后，我们可以使用以下代码创建bash脚本：\n",
    "#!/bin/sh\n",
    "python /path/to/trc-image-titler.py -o /path/to/output\n"
   ]
  },
  {
   "cell_type": "markdown",
   "metadata": {},
   "source": [
    "## 列表排序"
   ]
  },
  {
   "cell_type": "code",
   "execution_count": 31,
   "metadata": {},
   "outputs": [],
   "source": [
    "#通用列表排序*最快*\n",
    "my_list = ['a1', 'b6', 'a5', 'b2', 'c9', 'c6', 'c3', 'b4', 'a3']\n",
    "my_list.sort()"
   ]
  },
  {
   "cell_type": "code",
   "execution_count": 32,
   "metadata": {},
   "outputs": [
    {
     "data": {
      "text/plain": [
       "['a1', 'a3', 'a5', 'b2', 'b4', 'b6', 'c3', 'c6', 'c9']"
      ]
     },
     "execution_count": 32,
     "metadata": {},
     "output_type": "execute_result"
    }
   ],
   "source": [
    "my_list"
   ]
  },
  {
   "cell_type": "code",
   "execution_count": 33,
   "metadata": {},
   "outputs": [
    {
     "data": {
      "text/plain": [
       "['c9', 'c6', 'c3', 'b6', 'b4', 'b2', 'a5', 'a3', 'a1']"
      ]
     },
     "execution_count": 33,
     "metadata": {},
     "output_type": "execute_result"
    }
   ],
   "source": [
    "# 使用casefold自定义反向列表排序（> = Python 3.3）\n",
    "my_list = ['a1', 'b6', 'a5', 'b2', 'c9', 'c6', 'c3', 'b4', 'a3']\n",
    "my_list = sorted(my_list, key=str.casefold, reverse=True)\n",
    "my_list"
   ]
  },
  {
   "cell_type": "code",
   "execution_count": 34,
   "metadata": {},
   "outputs": [],
   "source": [
    "name_list = [{\n",
    "    'name':'Amy',\n",
    "    'Age':111,\n",
    "    'color':'blue'\n",
    "},\n",
    "{\n",
    "    'name':'Jason',\n",
    "    'Age':444,\n",
    "    'color':'red'\n",
    "},{\n",
    "    'name':'Kate',\n",
    "    'Age':333,\n",
    "    'color':'green'\n",
    "},\n",
    "{\n",
    "    'name':'John',\n",
    "    'Age':222,\n",
    "    'color':'yellow'\n",
    "}]"
   ]
  },
  {
   "cell_type": "code",
   "execution_count": 36,
   "metadata": {},
   "outputs": [],
   "source": [
    "name_list = sorted(name_list, key=lambda item:item.get('Age'))"
   ]
  },
  {
   "cell_type": "code",
   "execution_count": 37,
   "metadata": {},
   "outputs": [
    {
     "data": {
      "text/plain": [
       "[{'name': 'Amy', 'Age': 111, 'color': 'blue'},\n",
       " {'name': 'Tom', 'Age': 222, 'color': 'red'},\n",
       " {'name': 'Kate', 'Age': 333, 'color': 'green'},\n",
       " {'name': 'John', 'Age': 444, 'color': 'yellow'}]"
      ]
     },
     "execution_count": 37,
     "metadata": {},
     "output_type": "execute_result"
    }
   ],
   "source": [
    "name_list"
   ]
  },
  {
   "cell_type": "markdown",
   "metadata": {},
   "source": [
    "## 合并字典"
   ]
  },
  {
   "cell_type": "code",
   "execution_count": 40,
   "metadata": {},
   "outputs": [],
   "source": [
    "a = {'name': 'Amy'}\n",
    "b = {'Age': 111}\n",
    "c = {'color': 'blue'}"
   ]
  },
  {
   "cell_type": "code",
   "execution_count": 41,
   "metadata": {},
   "outputs": [],
   "source": [
    "power = dict()\n",
    "power = a.copy()\n",
    "power.update(b)\n",
    "power.update(c)"
   ]
  },
  {
   "cell_type": "code",
   "execution_count": 42,
   "metadata": {},
   "outputs": [
    {
     "data": {
      "text/plain": [
       "{'name': 'Amy', 'Age': 111, 'color': 'blue'}"
      ]
     },
     "execution_count": 42,
     "metadata": {},
     "output_type": "execute_result"
    }
   ],
   "source": [
    "power"
   ]
  },
  {
   "cell_type": "markdown",
   "metadata": {},
   "source": [
    "## 执行反向字典查找"
   ]
  },
  {
   "cell_type": "code",
   "execution_count": 45,
   "metadata": {},
   "outputs": [
    {
     "name": "stdout",
     "output_type": "stream",
     "text": [
      "color2:black\n"
     ]
    }
   ],
   "source": [
    "my_dict = {'name': 'Amy', 'Age': 111, 'color': 'blue', 'color2': 'black', 'color3': 'red', 'color4': 'green'}\n",
    "value_to_find = 'black'\n",
    "\n",
    "for key,value in my_dict.items():\n",
    "    if value == value_to_find:\n",
    "        print(f'{key}:{value}')\n",
    "        break"
   ]
  }
 ],
 "metadata": {
  "kernelspec": {
   "display_name": "Python 3",
   "language": "python",
   "name": "python3"
  },
  "language_info": {
   "codemirror_mode": {
    "name": "ipython",
    "version": 3
   },
   "file_extension": ".py",
   "mimetype": "text/x-python",
   "name": "python",
   "nbconvert_exporter": "python",
   "pygments_lexer": "ipython3",
   "version": "3.6.7"
  }
 },
 "nbformat": 4,
 "nbformat_minor": 4
}
